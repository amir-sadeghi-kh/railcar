{
 "cells": [
  {
   "cell_type": "code",
   "execution_count": 4,
   "metadata": {},
   "outputs": [],
   "source": [
    "import pandas as pd\n",
    "import datetime\n",
    "import numpy as np\n",
    "import matplotlib.pyplot as plt\n",
    "import time\n",
    "import datetime\n",
    "from sklearn.model_selection import train_test_split\n",
    "from sklearn.model_selection import cross_val_score\n",
    "from sklearn.model_selection import train_test_split\n",
    "from sklearn.tree import DecisionTreeClassifier\n",
    "from sklearn.ensemble import RandomForestClassifier, GradientBoostingClassifier\n",
    "from sklearn.ensemble import ExtraTreesClassifier\n",
    "from sklearn import tree\n",
    "from sklearn.ensemble import RandomForestClassifier\n",
    "from sklearn.metrics import accuracy_score\n",
    "from sklearn.metrics import confusion_matrix\n",
    "import matplotlib.pyplot as plt\n",
    "import scikitplot as skplt"
   ]
  },
  {
   "cell_type": "code",
   "execution_count": 5,
   "metadata": {},
   "outputs": [],
   "source": [
    "data = pd.read_csv('EOCC_Data_Robot_Input.csv')"
   ]
  },
  {
   "cell_type": "code",
   "execution_count": null,
   "metadata": {},
   "outputs": [],
   "source": [
    "#pca\n",
    "pca1 = PCA(n_components=1)\n",
    "pc_d_l = principalComponents = pca1.fit_transform(data[['CAR_AGE IN DAYS','LIFE TO DATE MILEAGE']])\n",
    "data['PCA_d_l']=pc_d_l\n",
    "#data = data.drop(['Mileage_since_last _failure','weeks_in_service'],axis = 1)"
   ]
  },
  {
   "cell_type": "code",
   "execution_count": 6,
   "metadata": {},
   "outputs": [
    {
     "data": {
      "text/html": [
       "<div>\n",
       "<style scoped>\n",
       "    .dataframe tbody tr th:only-of-type {\n",
       "        vertical-align: middle;\n",
       "    }\n",
       "\n",
       "    .dataframe tbody tr th {\n",
       "        vertical-align: top;\n",
       "    }\n",
       "\n",
       "    .dataframe thead th {\n",
       "        text-align: right;\n",
       "    }\n",
       "</style>\n",
       "<table border=\"1\" class=\"dataframe\">\n",
       "  <thead>\n",
       "    <tr style=\"text-align: right;\">\n",
       "      <th></th>\n",
       "      <th>key</th>\n",
       "      <th>CAR NUMBER</th>\n",
       "      <th>LOCATION</th>\n",
       "      <th>CONDITION CODE</th>\n",
       "      <th>is_new</th>\n",
       "      <th>RESPONSE CODE</th>\n",
       "      <th>WHY MADE</th>\n",
       "      <th>PART APPLIED DATE</th>\n",
       "      <th>UPDATED PART REPAIR DATE</th>\n",
       "      <th>weeks_in_service</th>\n",
       "      <th>...</th>\n",
       "      <th>BOCT</th>\n",
       "      <th>CN</th>\n",
       "      <th>CPRS</th>\n",
       "      <th>CSXT</th>\n",
       "      <th>FXE</th>\n",
       "      <th>KCS</th>\n",
       "      <th>KCSM</th>\n",
       "      <th>NSS</th>\n",
       "      <th>ST</th>\n",
       "      <th>UP</th>\n",
       "    </tr>\n",
       "  </thead>\n",
       "  <tbody>\n",
       "    <tr>\n",
       "      <td>0</td>\n",
       "      <td>83500A</td>\n",
       "      <td>83500</td>\n",
       "      <td>A</td>\n",
       "      <td>1</td>\n",
       "      <td>1</td>\n",
       "      <td>0</td>\n",
       "      <td>0</td>\n",
       "      <td>3/23/2018</td>\n",
       "      <td>11/15/2018</td>\n",
       "      <td>33.86</td>\n",
       "      <td>...</td>\n",
       "      <td>0</td>\n",
       "      <td>3</td>\n",
       "      <td>0</td>\n",
       "      <td>3</td>\n",
       "      <td>0</td>\n",
       "      <td>0</td>\n",
       "      <td>0</td>\n",
       "      <td>4</td>\n",
       "      <td>0</td>\n",
       "      <td>15</td>\n",
       "    </tr>\n",
       "    <tr>\n",
       "      <td>1</td>\n",
       "      <td>83500B</td>\n",
       "      <td>83500</td>\n",
       "      <td>B</td>\n",
       "      <td>1</td>\n",
       "      <td>1</td>\n",
       "      <td>0</td>\n",
       "      <td>0</td>\n",
       "      <td>6/6/2018</td>\n",
       "      <td>11/15/2018</td>\n",
       "      <td>23.14</td>\n",
       "      <td>...</td>\n",
       "      <td>0</td>\n",
       "      <td>3</td>\n",
       "      <td>0</td>\n",
       "      <td>3</td>\n",
       "      <td>0</td>\n",
       "      <td>0</td>\n",
       "      <td>0</td>\n",
       "      <td>4</td>\n",
       "      <td>0</td>\n",
       "      <td>15</td>\n",
       "    </tr>\n",
       "    <tr>\n",
       "      <td>2</td>\n",
       "      <td>83503A</td>\n",
       "      <td>83503</td>\n",
       "      <td>A</td>\n",
       "      <td>3</td>\n",
       "      <td>0</td>\n",
       "      <td>0</td>\n",
       "      <td>0</td>\n",
       "      <td>12/19/2014</td>\n",
       "      <td>11/15/2018</td>\n",
       "      <td>203.86</td>\n",
       "      <td>...</td>\n",
       "      <td>0</td>\n",
       "      <td>6</td>\n",
       "      <td>0</td>\n",
       "      <td>6</td>\n",
       "      <td>0</td>\n",
       "      <td>0</td>\n",
       "      <td>0</td>\n",
       "      <td>5</td>\n",
       "      <td>0</td>\n",
       "      <td>23</td>\n",
       "    </tr>\n",
       "    <tr>\n",
       "      <td>3</td>\n",
       "      <td>83503B</td>\n",
       "      <td>83503</td>\n",
       "      <td>B</td>\n",
       "      <td>3</td>\n",
       "      <td>0</td>\n",
       "      <td>0</td>\n",
       "      <td>0</td>\n",
       "      <td>10/20/2016</td>\n",
       "      <td>11/15/2018</td>\n",
       "      <td>108.00</td>\n",
       "      <td>...</td>\n",
       "      <td>0</td>\n",
       "      <td>6</td>\n",
       "      <td>0</td>\n",
       "      <td>6</td>\n",
       "      <td>0</td>\n",
       "      <td>0</td>\n",
       "      <td>0</td>\n",
       "      <td>5</td>\n",
       "      <td>0</td>\n",
       "      <td>23</td>\n",
       "    </tr>\n",
       "    <tr>\n",
       "      <td>4</td>\n",
       "      <td>83505A</td>\n",
       "      <td>83505</td>\n",
       "      <td>A</td>\n",
       "      <td>1</td>\n",
       "      <td>1</td>\n",
       "      <td>0</td>\n",
       "      <td>0</td>\n",
       "      <td>6/22/2017</td>\n",
       "      <td>11/15/2018</td>\n",
       "      <td>73.00</td>\n",
       "      <td>...</td>\n",
       "      <td>0</td>\n",
       "      <td>9</td>\n",
       "      <td>3</td>\n",
       "      <td>12</td>\n",
       "      <td>0</td>\n",
       "      <td>1</td>\n",
       "      <td>0</td>\n",
       "      <td>2</td>\n",
       "      <td>0</td>\n",
       "      <td>28</td>\n",
       "    </tr>\n",
       "  </tbody>\n",
       "</table>\n",
       "<p>5 rows × 117 columns</p>\n",
       "</div>"
      ],
      "text/plain": [
       "      key  CAR NUMBER LOCATION  CONDITION CODE  is_new  RESPONSE CODE  \\\n",
       "0  83500A       83500        A               1       1              0   \n",
       "1  83500B       83500        B               1       1              0   \n",
       "2  83503A       83503        A               3       0              0   \n",
       "3  83503B       83503        B               3       0              0   \n",
       "4  83505A       83505        A               1       1              0   \n",
       "\n",
       "   WHY MADE PART APPLIED DATE UPDATED PART REPAIR DATE  weeks_in_service  ...  \\\n",
       "0         0         3/23/2018               11/15/2018             33.86  ...   \n",
       "1         0          6/6/2018               11/15/2018             23.14  ...   \n",
       "2         0        12/19/2014               11/15/2018            203.86  ...   \n",
       "3         0        10/20/2016               11/15/2018            108.00  ...   \n",
       "4         0         6/22/2017               11/15/2018             73.00  ...   \n",
       "\n",
       "   BOCT  CN   CPRS CSXT FXE  KCS  KCSM  NSS  ST    UP    \n",
       "0     0     3    0    3    0    0    0     4    0    15  \n",
       "1     0     3    0    3    0    0    0     4    0    15  \n",
       "2     0     6    0    6    0    0    0     5    0    23  \n",
       "3     0     6    0    6    0    0    0     5    0    23  \n",
       "4     0     9    3   12    0    1    0     2    0    28  \n",
       "\n",
       "[5 rows x 117 columns]"
      ]
     },
     "execution_count": 6,
     "metadata": {},
     "output_type": "execute_result"
    }
   ],
   "source": [
    "data.head()"
   ]
  },
  {
   "cell_type": "code",
   "execution_count": 7,
   "metadata": {},
   "outputs": [],
   "source": [
    "data['CAR_CLASS'] = pd.factorize(data.CAR_CLASS)[0]\n",
    "data['EQUIP_FEAT_DESC'] = pd.factorize(data.EQUIP_FEAT_DESC)[0]\n",
    "data['car_length'] = pd.factorize(data.car_length)[0]\n",
    "data['car_tonnage'] = pd.factorize(data.car_tonnage)[0]\n",
    "data['BUILDER_NAME'] = pd.factorize(data.BUILDER_NAME)[0]"
   ]
  },
  {
   "cell_type": "code",
   "execution_count": 8,
   "metadata": {},
   "outputs": [],
   "source": [
    "data1 = pd.DataFrame(data['CAR NUMBER'].unique())\n",
    "data1.columns=['CAR NUMBER']\n",
    "data2=pd.DataFrame(np.random.rand(len(data['CAR NUMBER'].unique())))\n",
    "data2.columns=['RandomNum']\n",
    "data1['RandomNum']=pd.DataFrame(np.random.rand(len(data['CAR NUMBER'].unique())))\n",
    "data_w_rand=pd.merge(data,data1,on='CAR NUMBER',how='left')\n",
    "\n",
    "data_new =data_w_rand.drop(['CAR NUMBER','key','LOCATION','RESPONSE CODE','WHY MADE','PART APPLIED DATE','UPDATED PART REPAIR DATE','UPDATED PART REPAIR DATE','BUILT DATE'],axis =1)\n",
    "\n",
    "#train and test  \n",
    "data_train = data_new[data_new['RandomNum'] <= 0.75]\n",
    "data_test = data_new[data_new['RandomNum'] > 0.75]\n",
    "\n",
    "y_train = data_train['TARGET']\n",
    "x_train = data_train.drop(['TARGET'],axis =1)\n",
    "y_test = data_test['TARGET']\n",
    "x_test = data_test.drop(['TARGET'],axis =1)\n",
    "\n",
    "clf = RandomForestClassifier(random_state=1234,\n",
    "                                    min_samples_split=2,\n",
    "                                     max_leaf_nodes=5000,\n",
    "                                     max_features=0.2,\n",
    "                                     bootstrap = False, \n",
    "                                     n_estimators= 500,\n",
    "                                     criterion='gini',\n",
    "                                     min_samples_leaf=20,                             \n",
    "                                    n_jobs = -1).fit(x_train,y_train)"
   ]
  },
  {
   "cell_type": "code",
   "execution_count": 9,
   "metadata": {},
   "outputs": [
    {
     "data": {
      "image/png": "[encoded data removed]",
      "text/plain": [
       "<Figure size 432x288 with 1 Axes>"
      ]
     },
     "metadata": {
      "needs_background": "light"
     },
     "output_type": "display_data"
    }
   ],
   "source": [
    "predicted_probas = clf.predict_proba(x_test)\n",
    "skplt.metrics.plot_cumulative_gain(y_test, predicted_probas)\n",
    "plt.show()"
   ]
  },
  {
   "cell_type": "code",
   "execution_count": 10,
   "metadata": {},
   "outputs": [],
   "source": [
    "clf = GradientBoostingClassifier(loss=  'exponential',\n",
    "                                n_estimators = 500,\n",
    "                                random_state = 0,\n",
    "                                ).fit(x_train,y_train)\n",
    "predicted_probas = clf.predict_proba(x_test)"
   ]
  },
  {
   "cell_type": "code",
   "execution_count": 11,
   "metadata": {},
   "outputs": [
    {
     "data": {
      "image/png": "[encoded data removed]",
      "text/plain": [
       "<Figure size 432x288 with 1 Axes>"
      ]
     },
     "metadata": {
      "needs_background": "light"
     },
     "output_type": "display_data"
    }
   ],
   "source": [
    "predicted_probas = clf.predict_proba(x_test)\n",
    "skplt.metrics.plot_cumulative_gain(y_test, predicted_probas)\n",
    "plt.show()"
   ]
  },
  {
   "cell_type": "code",
   "execution_count": null,
   "metadata": {},
   "outputs": [],
   "source": []
  },
  {
   "cell_type": "code",
   "execution_count": null,
   "metadata": {},
   "outputs": [],
   "source": []
  },
  {
   "cell_type": "code",
   "execution_count": null,
   "metadata": {},
   "outputs": [],
   "source": []
  },
  {
   "cell_type": "code",
   "execution_count": null,
   "metadata": {},
   "outputs": [],
   "source": []
  },
  {
   "cell_type": "code",
   "execution_count": 94,
   "metadata": {},
   "outputs": [
    {
     "data": {
      "text/plain": [
       "array([[3190,  730],\n",
       "       [ 115,   64]], dtype=int64)"
      ]
     },
     "execution_count": 94,
     "metadata": {},
     "output_type": "execute_result"
    }
   ],
   "source": [
    "y_predict_test = (predicted_probas [:,1] >= 0.04).astype('int')\n",
    "from sklearn.metrics import confusion_matrix\n",
    "confusion_matrix(y_test, y_predict_test)"
   ]
  },
  {
   "cell_type": "code",
   "execution_count": 95,
   "metadata": {},
   "outputs": [
    {
     "data": {
      "text/plain": [
       "0.58565870482271121"
      ]
     },
     "execution_count": 95,
     "metadata": {},
     "output_type": "execute_result"
    }
   ],
   "source": [
    "from sklearn import metrics\n",
    "fpr, tpr, thresholds = metrics.roc_curve(y_test, y_predict_test)\n",
    "metrics.auc(fpr, tpr)"
   ]
  },
  {
   "cell_type": "code",
   "execution_count": 96,
   "metadata": {},
   "outputs": [],
   "source": [
    "sort_prob= sorted(predicted_probas[:,1],reverse = True )\n",
    "index_sort = (-predicted_probas[:,1]).argsort()\n",
    "thres = np.linspace(0,1,100)\n",
    "score = []\n",
    "for t in range(len(thres)):\n",
    "    len_thres = int(np.ceil(len(y_test)*thres[t]))\n",
    "    y_thres_test = []\n",
    "    for i in range(len_thres):\n",
    "        y_thres_test.append(y_test[y_test.index[index_sort[i]]])\n",
    "    score.append(sum(y_thres_test)*1.0 / sum(y_test))\n",
    "%matplotlib notebook\n",
    "plt.plot(thres,score)\n",
    "plt.plot(thres,thres)\n",
    "plt.xlabel('percentage of sample')\n",
    "plt.ylabel('gain')\n",
    "plt.grid()"
   ]
  },
  {
   "cell_type": "code",
   "execution_count": 97,
   "metadata": {},
   "outputs": [],
   "source": []
  },
  {
   "cell_type": "code",
   "execution_count": 98,
   "metadata": {},
   "outputs": [],
   "source": []
  },
  {
   "cell_type": "code",
   "execution_count": 99,
   "metadata": {},
   "outputs": [
    {
     "data": {
      "text/plain": [
       "0.25139664804469275"
      ]
     },
     "execution_count": 99,
     "metadata": {},
     "output_type": "execute_result"
    }
   ],
   "source": [
    "score[10]"
   ]
  },
  {
   "cell_type": "code",
   "execution_count": 100,
   "metadata": {},
   "outputs": [],
   "source": []
  },
  {
   "cell_type": "code",
   "execution_count": 101,
   "metadata": {},
   "outputs": [],
   "source": [
    "len_ten = int(np.ceil(len(y_test)*0.1))\n",
    "y_ten_test = y_test[y_test.index[index_sort[0:len_ten]]]"
   ]
  },
  {
   "cell_type": "code",
   "execution_count": 102,
   "metadata": {},
   "outputs": [
    {
     "data": {
      "text/plain": [
       "0.25139664804469275"
      ]
     },
     "execution_count": 102,
     "metadata": {},
     "output_type": "execute_result"
    }
   ],
   "source": [
    "1.0*sum(y_ten_test)/ sum(y_test)"
   ]
  },
  {
   "cell_type": "code",
   "execution_count": 46,
   "metadata": {},
   "outputs": [],
   "source": [
    "index_one = []\n",
    "for i in range(len(y_ten_test)):\n",
    "    if y_ten_test[y_ten_test.index[i]] == 1:\n",
    "        index_one.append(y_ten_test.index[i])"
   ]
  },
  {
   "cell_type": "code",
   "execution_count": 103,
   "metadata": {},
   "outputs": [
    {
     "data": {
      "text/html": [
       "<div>\n",
       "<style scoped>\n",
       "    .dataframe tbody tr th:only-of-type {\n",
       "        vertical-align: middle;\n",
       "    }\n",
       "\n",
       "    .dataframe tbody tr th {\n",
       "        vertical-align: top;\n",
       "    }\n",
       "\n",
       "    .dataframe thead th {\n",
       "        text-align: right;\n",
       "    }\n",
       "</style>\n",
       "<table border=\"1\" class=\"dataframe\">\n",
       "  <thead>\n",
       "    <tr style=\"text-align: right;\">\n",
       "      <th></th>\n",
       "      <th>CONDITION CODE</th>\n",
       "      <th>is_new</th>\n",
       "      <th>weeks_in_service</th>\n",
       "      <th>EOCC_POCKET</th>\n",
       "      <th>Mileage_since_last _failure</th>\n",
       "      <th>CAR_CLASS</th>\n",
       "      <th>EQUIP_FEAT_DESC</th>\n",
       "      <th>car_length</th>\n",
       "      <th>car_tonnage</th>\n",
       "      <th>car_age</th>\n",
       "      <th>...</th>\n",
       "      <th>BOCT</th>\n",
       "      <th>CN</th>\n",
       "      <th>CPRS</th>\n",
       "      <th>CSXT</th>\n",
       "      <th>FXE</th>\n",
       "      <th>KCS</th>\n",
       "      <th>KCSM</th>\n",
       "      <th>NSS</th>\n",
       "      <th>ST</th>\n",
       "      <th>UP</th>\n",
       "    </tr>\n",
       "  </thead>\n",
       "  <tbody>\n",
       "    <tr>\n",
       "      <th>15758</th>\n",
       "      <td>1</td>\n",
       "      <td>1</td>\n",
       "      <td>23</td>\n",
       "      <td>9</td>\n",
       "      <td>491913</td>\n",
       "      <td>13</td>\n",
       "      <td>2</td>\n",
       "      <td>1</td>\n",
       "      <td>1</td>\n",
       "      <td>20</td>\n",
       "      <td>...</td>\n",
       "      <td>0</td>\n",
       "      <td>3</td>\n",
       "      <td>4</td>\n",
       "      <td>4</td>\n",
       "      <td>0</td>\n",
       "      <td>1</td>\n",
       "      <td>0</td>\n",
       "      <td>2</td>\n",
       "      <td>0</td>\n",
       "      <td>15</td>\n",
       "    </tr>\n",
       "    <tr>\n",
       "      <th>4041</th>\n",
       "      <td>1</td>\n",
       "      <td>1</td>\n",
       "      <td>33</td>\n",
       "      <td>3</td>\n",
       "      <td>267410</td>\n",
       "      <td>3</td>\n",
       "      <td>0</td>\n",
       "      <td>0</td>\n",
       "      <td>0</td>\n",
       "      <td>32</td>\n",
       "      <td>...</td>\n",
       "      <td>0</td>\n",
       "      <td>12</td>\n",
       "      <td>1</td>\n",
       "      <td>18</td>\n",
       "      <td>0</td>\n",
       "      <td>0</td>\n",
       "      <td>0</td>\n",
       "      <td>1</td>\n",
       "      <td>1</td>\n",
       "      <td>8</td>\n",
       "    </tr>\n",
       "    <tr>\n",
       "      <th>6229</th>\n",
       "      <td>3</td>\n",
       "      <td>0</td>\n",
       "      <td>15</td>\n",
       "      <td>9</td>\n",
       "      <td>331771</td>\n",
       "      <td>5</td>\n",
       "      <td>1</td>\n",
       "      <td>1</td>\n",
       "      <td>0</td>\n",
       "      <td>27</td>\n",
       "      <td>...</td>\n",
       "      <td>0</td>\n",
       "      <td>0</td>\n",
       "      <td>5</td>\n",
       "      <td>12</td>\n",
       "      <td>0</td>\n",
       "      <td>0</td>\n",
       "      <td>0</td>\n",
       "      <td>7</td>\n",
       "      <td>1</td>\n",
       "      <td>16</td>\n",
       "    </tr>\n",
       "    <tr>\n",
       "      <th>20679</th>\n",
       "      <td>3</td>\n",
       "      <td>0</td>\n",
       "      <td>20</td>\n",
       "      <td>10</td>\n",
       "      <td>116788</td>\n",
       "      <td>16</td>\n",
       "      <td>2</td>\n",
       "      <td>1</td>\n",
       "      <td>1</td>\n",
       "      <td>12</td>\n",
       "      <td>...</td>\n",
       "      <td>0</td>\n",
       "      <td>8</td>\n",
       "      <td>7</td>\n",
       "      <td>5</td>\n",
       "      <td>0</td>\n",
       "      <td>1</td>\n",
       "      <td>0</td>\n",
       "      <td>5</td>\n",
       "      <td>0</td>\n",
       "      <td>14</td>\n",
       "    </tr>\n",
       "    <tr>\n",
       "      <th>1730</th>\n",
       "      <td>1</td>\n",
       "      <td>1</td>\n",
       "      <td>31</td>\n",
       "      <td>9</td>\n",
       "      <td>567753</td>\n",
       "      <td>2</td>\n",
       "      <td>1</td>\n",
       "      <td>1</td>\n",
       "      <td>0</td>\n",
       "      <td>25</td>\n",
       "      <td>...</td>\n",
       "      <td>0</td>\n",
       "      <td>0</td>\n",
       "      <td>2</td>\n",
       "      <td>4</td>\n",
       "      <td>0</td>\n",
       "      <td>0</td>\n",
       "      <td>0</td>\n",
       "      <td>1</td>\n",
       "      <td>1</td>\n",
       "      <td>10</td>\n",
       "    </tr>\n",
       "  </tbody>\n",
       "</table>\n",
       "<p>5 rows × 108 columns</p>\n",
       "</div>"
      ],
      "text/plain": [
       "       CONDITION CODE  is_new  weeks_in_service  EOCC_POCKET  \\\n",
       "15758               1       1                23            9   \n",
       "4041                1       1                33            3   \n",
       "6229                3       0                15            9   \n",
       "20679               3       0                20           10   \n",
       "1730                1       1                31            9   \n",
       "\n",
       "       Mileage_since_last _failure  CAR_CLASS  EQUIP_FEAT_DESC  car_length  \\\n",
       "15758                       491913         13                2           1   \n",
       "4041                        267410          3                0           0   \n",
       "6229                        331771          5                1           1   \n",
       "20679                       116788         16                2           1   \n",
       "1730                        567753          2                1           1   \n",
       "\n",
       "       car_tonnage  car_age  ...   BOCT  CN    CPRS  CSXT  FXE   KCS   KCSM  \\\n",
       "15758            1       20  ...      0     3     4     4     0     1     0   \n",
       "4041             0       32  ...      0    12     1    18     0     0     0   \n",
       "6229             0       27  ...      0     0     5    12     0     0     0   \n",
       "20679            1       12  ...      0     8     7     5     0     1     0   \n",
       "1730             0       25  ...      0     0     2     4     0     0     0   \n",
       "\n",
       "       NSS   ST    UP    \n",
       "15758     2     0    15  \n",
       "4041      1     1     8  \n",
       "6229      7     1    16  \n",
       "20679     5     0    14  \n",
       "1730      1     1    10  \n",
       "\n",
       "[5 rows x 108 columns]"
      ]
     },
     "execution_count": 103,
     "metadata": {},
     "output_type": "execute_result"
    }
   ],
   "source": [
    "x_test.head()"
   ]
  },
  {
   "cell_type": "code",
   "execution_count": 104,
   "metadata": {},
   "outputs": [
    {
     "data": {
      "image/png": "[encoded data removed]",
      "text/plain": [
       "<matplotlib.figure.Figure at 0xcb5bb00>"
      ]
     },
     "metadata": {},
     "output_type": "display_data"
    }
   ],
   "source": [
    "mile = []\n",
    "for i in range(len(x_test)):\n",
    "    if y_test[y_test.index[i]] == 1:\n",
    "        mile.append(x_test['Mileage_since_last _failure'][y_test.index[i]])\n",
    "plt.hist(mile)\n",
    "plt.show()"
   ]
  },
  {
   "cell_type": "code",
   "execution_count": 105,
   "metadata": {},
   "outputs": [
    {
     "data": {
      "image/png": "[encoded data removed]",
      "text/plain": [
       "<matplotlib.figure.Figure at 0x172a6860>"
      ]
     },
     "metadata": {},
     "output_type": "display_data"
    }
   ],
   "source": [
    "mile = []\n",
    "for i in range(len(y_ten_test)):\n",
    "    if y_test[y_ten_test.index[i]] == 1:\n",
    "        mile.append(x_test['Mileage_since_last _failure'][y_ten_test.index[i]])\n",
    "plt.hist(mile)\n",
    "plt.show()"
   ]
  },
  {
   "cell_type": "code",
   "execution_count": 107,
   "metadata": {},
   "outputs": [
    {
     "data": {
      "text/plain": [
       "45"
      ]
     },
     "execution_count": 107,
     "metadata": {},
     "output_type": "execute_result"
    }
   ],
   "source": []
  },
  {
   "cell_type": "code",
   "execution_count": null,
   "metadata": {},
   "outputs": [],
   "source": []
  }
 ],
 "metadata": {
  "kernelspec": {
   "display_name": "Python 3",
   "language": "python",
   "name": "python3"
  },
  "language_info": {
   "codemirror_mode": {
    "name": "ipython",
    "version": 3
   },
   "file_extension": ".py",
   "mimetype": "text/x-python",
   "name": "python",
   "nbconvert_exporter": "python",
   "pygments_lexer": "ipython3",
   "version": "3.7.4"
  }
 },
 "nbformat": 4,
 "nbformat_minor": 2
}
