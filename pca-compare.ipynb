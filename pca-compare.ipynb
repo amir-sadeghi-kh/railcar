{
 "cells": [
  {
   "cell_type": "code",
   "execution_count": 68,
   "metadata": {},
   "outputs": [],
   "source": [
    "import pandas as pd\n",
    "import datetime\n",
    "import numpy as np\n",
    "import matplotlib.pyplot as plt\n",
    "import time\n",
    "import datetime\n",
    "from sklearn.model_selection import train_test_split\n",
    "from sklearn.model_selection import cross_val_score\n",
    "from sklearn.model_selection import train_test_split\n",
    "from sklearn.tree import DecisionTreeClassifier\n",
    "from sklearn.ensemble import RandomForestClassifier, GradientBoostingClassifier\n",
    "from sklearn.ensemble import ExtraTreesClassifier\n",
    "from sklearn import tree\n",
    "from sklearn.ensemble import RandomForestClassifier\n",
    "from sklearn.metrics import accuracy_score\n",
    "from sklearn.metrics import confusion_matrix\n",
    "import matplotlib.pyplot as plt\n",
    "import scikitplot as skplt\n",
    "from sklearn import metrics\n",
    "from sklearn.decomposition import PCA"
   ]
  },
  {
   "cell_type": "code",
   "execution_count": 69,
   "metadata": {},
   "outputs": [],
   "source": [
    "#reading data\n",
    "data = pd.read_csv('EOCC_New_data_with_zero_updated_columns.csv')"
   ]
  },
  {
   "cell_type": "code",
   "execution_count": 70,
   "metadata": {},
   "outputs": [],
   "source": [
    "#pca\n",
    "pca1 = PCA(n_components=1)\n",
    "pc_w_m = principalComponents = pca1.fit_transform(data[['Mileage_since_last _failure','weeks_in_service']])\n",
    "data['PCA_1']=pc_w_m\n",
    "#data = data.drop(['Mileage_since_last _failure','weeks_in_service'],axis = 1)"
   ]
  },
  {
   "cell_type": "code",
   "execution_count": 71,
   "metadata": {},
   "outputs": [],
   "source": [
    "data['CAR_CLASS'] = pd.factorize(data.CAR_CLASS)[0]\n",
    "data['EQUIP_FEAT_DESC'] = pd.factorize(data.EQUIP_FEAT_DESC)[0]\n",
    "data['car_length'] = pd.factorize(data.car_length)[0]\n",
    "data['car_tonnage'] = pd.factorize(data.car_tonnage)[0]\n",
    "data['BUILDER_NAME'] = pd.factorize(data.BUILDER_NAME)[0]"
   ]
  },
  {
   "cell_type": "code",
   "execution_count": 72,
   "metadata": {},
   "outputs": [
    {
     "name": "stdout",
     "output_type": "stream",
     "text": [
      "21979\n",
      "17135\n",
      "0.698154807636\n",
      "0.710638794319\n",
      "21979\n",
      "17135\n",
      "0.645970163258\n",
      "0.646286025596\n",
      "21979\n",
      "17135\n",
      "0.705944112689\n",
      "0.688446668105\n",
      "21979\n",
      "17135\n",
      "0.640462172568\n",
      "0.639534707027\n",
      "21979\n",
      "17135\n",
      "0.665666404802\n",
      "0.671145880833\n",
      "21979\n",
      "17135\n",
      "0.652448392138\n",
      "0.671387316082\n",
      "21979\n",
      "17135\n",
      "0.673534722376\n",
      "0.659909295816\n",
      "21979\n",
      "17135\n",
      "0.66525963864\n",
      "0.683276710159\n",
      "21979\n",
      "17135\n",
      "0.642002237136\n",
      "0.661332860967\n",
      "21979\n",
      "17135\n",
      "0.676957813393\n",
      "0.672340445933\n",
      "21979\n",
      "17135\n",
      "0.68822191748\n",
      "0.665424887027\n",
      "21979\n",
      "17135\n",
      "0.651070284575\n",
      "0.685544900804\n",
      "21979\n",
      "17135\n",
      "0.641621515313\n",
      "0.647899159664\n",
      "21979\n",
      "17135\n",
      "0.667901293017\n",
      "0.668249648806\n",
      "21979\n",
      "17135\n",
      "0.656809501901\n",
      "0.652096216969\n"
     ]
    }
   ],
   "source": [
    "best_vals_reg=[]\n",
    "best_vals_reg_500=[]\n",
    "\n",
    "for j in range(15):\n",
    "    data1 = pd.DataFrame(data['CAR NUMBER'].unique())\n",
    "    data1.columns=['CAR NUMBER']\n",
    "    data2=pd.DataFrame(np.random.rand(len(data['CAR NUMBER'].unique())))\n",
    "    data2.columns=['RandomNum']\n",
    "    data1['RandomNum']=pd.DataFrame(np.random.rand(len(data['CAR NUMBER'].unique())))\n",
    "    data_w_rand=pd.merge(data,data1,on='CAR NUMBER',how='left')\n",
    "\n",
    "    data_new =data_w_rand.drop(['CAR NUMBER','key','LOCATION','RESPONSE CODE','WHY MADE','PART APPLIED DATE','UPDATED PART REPAIR DATE','UPDATED PART REPAIR DATE','BUILT DATE'],axis =1)\n",
    "\n",
    "    data_500 = data_new[(data_new['Mileage_since_last _failure']< 500000) | (data_new['Mileage_since_last _failure']> 650000)]\n",
    "    \n",
    "    print(len(data_new))\n",
    "    print(len(data_500))\n",
    "    #train and test  \n",
    "    data_train = data_new[data_new['RandomNum'] <= 0.75]\n",
    "    data_test = data_new[data_new['RandomNum'] > 0.75]\n",
    "\n",
    "    y_train = data_train['TARGET']\n",
    "    x_train = data_train.drop(['TARGET'],axis =1)\n",
    "    y_test = data_test['TARGET']\n",
    "    x_test = data_test.drop(['TARGET'],axis =1)\n",
    "\n",
    "    clf = RandomForestClassifier(random_state=1234,\n",
    "                                    min_samples_split=2,\n",
    "                                     max_leaf_nodes=5000,\n",
    "                                     max_features=0.2,\n",
    "                                     bootstrap = False, \n",
    "                                     n_estimators= 500,\n",
    "                                     criterion='gini',\n",
    "                                     min_samples_leaf=20,                             \n",
    "                                    n_jobs = -1).fit(x_train,y_train)\n",
    "    vals=[]\n",
    "    for i in np.linspace(0.01,0.2,50):\n",
    "        predicted_probas = clf.predict_proba(x_test)\n",
    "        y_predict_test = (predicted_probas [:,1] >= i).astype('int')\n",
    "        fpr, tpr, thresholds = metrics.roc_curve(y_test, y_predict_test)\n",
    "        vals.append(metrics.auc(fpr, tpr))\n",
    "    print(max(vals))\n",
    "    best_vals_reg.append(max(vals)) \n",
    "    \n",
    "        #train and test  \n",
    "    data_train = data_500[data_500['RandomNum'] <= 0.75]\n",
    "    data_test = data_500[data_500['RandomNum'] > 0.75]\n",
    "\n",
    "    y_train = data_train['TARGET']\n",
    "    x_train = data_train.drop(['TARGET'],axis =1)\n",
    "    y_test = data_test['TARGET']\n",
    "    x_test = data_test.drop(['TARGET'],axis =1)\n",
    "\n",
    "    clf = RandomForestClassifier(random_state=1234,\n",
    "                                    min_samples_split=2,\n",
    "                                     max_leaf_nodes=5000,\n",
    "                                     max_features=0.2,\n",
    "                                     bootstrap = False, \n",
    "                                     n_estimators= 500,\n",
    "                                     criterion='gini',\n",
    "                                     min_samples_leaf=20,                             \n",
    "                                    n_jobs = -1).fit(x_train,y_train)\n",
    "    vals=[]\n",
    "    for i in np.linspace(0.01,0.2,50):\n",
    "        predicted_probas = clf.predict_proba(x_test)\n",
    "        y_predict_test = (predicted_probas [:,1] >= i).astype('int')\n",
    "        fpr, tpr, thresholds = metrics.roc_curve(y_test, y_predict_test)\n",
    "        vals.append(metrics.auc(fpr, tpr))\n",
    "    print(max(vals))\n",
    "    best_vals_reg_500.append(max(vals)) "
   ]
  },
  {
   "cell_type": "code",
   "execution_count": 73,
   "metadata": {},
   "outputs": [
    {
     "data": {
      "text/plain": [
       "0.66480166512812999"
      ]
     },
     "execution_count": 73,
     "metadata": {},
     "output_type": "execute_result"
    }
   ],
   "source": [
    "np.mean(best_vals_reg)"
   ]
  },
  {
   "cell_type": "code",
   "execution_count": 74,
   "metadata": {},
   "outputs": [
    {
     "data": {
      "text/plain": [
       "0.6682342345404767"
      ]
     },
     "execution_count": 74,
     "metadata": {},
     "output_type": "execute_result"
    }
   ],
   "source": [
    "np.mean( best_vals_reg_500)"
   ]
  },
  {
   "cell_type": "code",
   "execution_count": null,
   "metadata": {},
   "outputs": [],
   "source": []
  }
 ],
 "metadata": {
  "kernelspec": {
   "display_name": "Python 2",
   "language": "python",
   "name": "python2"
  },
  "language_info": {
   "codemirror_mode": {
    "name": "ipython",
    "version": 2
   },
   "file_extension": ".py",
   "mimetype": "text/x-python",
   "name": "python",
   "nbconvert_exporter": "python",
   "pygments_lexer": "ipython2",
   "version": "2.7.14"
  }
 },
 "nbformat": 4,
 "nbformat_minor": 2
}
