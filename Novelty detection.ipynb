{
 "cells": [
  {
   "cell_type": "code",
   "execution_count": 8,
   "metadata": {},
   "outputs": [],
   "source": [
    "import pandas as pd\n",
    "import datetime\n",
    "import numpy as np\n",
    "import matplotlib.pyplot as plt\n",
    "import time\n",
    "import datetime\n",
    "from sklearn.model_selection import train_test_split\n",
    "from sklearn.model_selection import cross_val_score\n",
    "from sklearn.model_selection import train_test_split\n",
    "from sklearn.tree import DecisionTreeClassifier\n",
    "from sklearn.ensemble import RandomForestClassifier\n",
    "from sklearn.ensemble import ExtraTreesClassifier\n",
    "from sklearn import tree\n",
    "from sklearn.ensemble import RandomForestClassifier"
   ]
  },
  {
   "cell_type": "code",
   "execution_count": 9,
   "metadata": {},
   "outputs": [],
   "source": [
    "data = pd.read_csv('EOCC_New_data_with_zero_updated_columns.csv')"
   ]
  },
  {
   "cell_type": "code",
   "execution_count": 10,
   "metadata": {},
   "outputs": [
    {
     "data": {
      "text/html": [
       "<div>\n",
       "<style scoped>\n",
       "    .dataframe tbody tr th:only-of-type {\n",
       "        vertical-align: middle;\n",
       "    }\n",
       "\n",
       "    .dataframe tbody tr th {\n",
       "        vertical-align: top;\n",
       "    }\n",
       "\n",
       "    .dataframe thead th {\n",
       "        text-align: right;\n",
       "    }\n",
       "</style>\n",
       "<table border=\"1\" class=\"dataframe\">\n",
       "  <thead>\n",
       "    <tr style=\"text-align: right;\">\n",
       "      <th></th>\n",
       "      <th>key</th>\n",
       "      <th>CAR NUMBER</th>\n",
       "      <th>LOCATION</th>\n",
       "      <th>CONDITION CODE</th>\n",
       "      <th>is_new</th>\n",
       "      <th>RESPONSE CODE</th>\n",
       "      <th>WHY MADE</th>\n",
       "      <th>PART APPLIED DATE</th>\n",
       "      <th>UPDATED PART REPAIR DATE</th>\n",
       "      <th>weeks_in_service</th>\n",
       "      <th>...</th>\n",
       "      <th>BOCT</th>\n",
       "      <th>CN</th>\n",
       "      <th>CPRS</th>\n",
       "      <th>CSXT</th>\n",
       "      <th>FXE</th>\n",
       "      <th>KCS</th>\n",
       "      <th>KCSM</th>\n",
       "      <th>NSS</th>\n",
       "      <th>ST</th>\n",
       "      <th>UP</th>\n",
       "    </tr>\n",
       "  </thead>\n",
       "  <tbody>\n",
       "    <tr>\n",
       "      <td>0</td>\n",
       "      <td>83500A</td>\n",
       "      <td>83500</td>\n",
       "      <td>A</td>\n",
       "      <td>1</td>\n",
       "      <td>1</td>\n",
       "      <td>0</td>\n",
       "      <td>0</td>\n",
       "      <td>3/23/2018</td>\n",
       "      <td>11/15/2018</td>\n",
       "      <td>33.86</td>\n",
       "      <td>...</td>\n",
       "      <td>0</td>\n",
       "      <td>3</td>\n",
       "      <td>0</td>\n",
       "      <td>3</td>\n",
       "      <td>0</td>\n",
       "      <td>0</td>\n",
       "      <td>0</td>\n",
       "      <td>4</td>\n",
       "      <td>0</td>\n",
       "      <td>15</td>\n",
       "    </tr>\n",
       "    <tr>\n",
       "      <td>1</td>\n",
       "      <td>83500B</td>\n",
       "      <td>83500</td>\n",
       "      <td>B</td>\n",
       "      <td>1</td>\n",
       "      <td>1</td>\n",
       "      <td>0</td>\n",
       "      <td>0</td>\n",
       "      <td>6/6/2018</td>\n",
       "      <td>11/15/2018</td>\n",
       "      <td>23.14</td>\n",
       "      <td>...</td>\n",
       "      <td>0</td>\n",
       "      <td>3</td>\n",
       "      <td>0</td>\n",
       "      <td>3</td>\n",
       "      <td>0</td>\n",
       "      <td>0</td>\n",
       "      <td>0</td>\n",
       "      <td>4</td>\n",
       "      <td>0</td>\n",
       "      <td>15</td>\n",
       "    </tr>\n",
       "    <tr>\n",
       "      <td>2</td>\n",
       "      <td>83503A</td>\n",
       "      <td>83503</td>\n",
       "      <td>A</td>\n",
       "      <td>3</td>\n",
       "      <td>0</td>\n",
       "      <td>0</td>\n",
       "      <td>0</td>\n",
       "      <td>12/19/2014</td>\n",
       "      <td>11/15/2018</td>\n",
       "      <td>203.86</td>\n",
       "      <td>...</td>\n",
       "      <td>0</td>\n",
       "      <td>6</td>\n",
       "      <td>0</td>\n",
       "      <td>6</td>\n",
       "      <td>0</td>\n",
       "      <td>0</td>\n",
       "      <td>0</td>\n",
       "      <td>5</td>\n",
       "      <td>0</td>\n",
       "      <td>23</td>\n",
       "    </tr>\n",
       "    <tr>\n",
       "      <td>3</td>\n",
       "      <td>83503B</td>\n",
       "      <td>83503</td>\n",
       "      <td>B</td>\n",
       "      <td>3</td>\n",
       "      <td>0</td>\n",
       "      <td>0</td>\n",
       "      <td>0</td>\n",
       "      <td>10/20/2016</td>\n",
       "      <td>11/15/2018</td>\n",
       "      <td>108.00</td>\n",
       "      <td>...</td>\n",
       "      <td>0</td>\n",
       "      <td>6</td>\n",
       "      <td>0</td>\n",
       "      <td>6</td>\n",
       "      <td>0</td>\n",
       "      <td>0</td>\n",
       "      <td>0</td>\n",
       "      <td>5</td>\n",
       "      <td>0</td>\n",
       "      <td>23</td>\n",
       "    </tr>\n",
       "    <tr>\n",
       "      <td>4</td>\n",
       "      <td>83505A</td>\n",
       "      <td>83505</td>\n",
       "      <td>A</td>\n",
       "      <td>1</td>\n",
       "      <td>1</td>\n",
       "      <td>0</td>\n",
       "      <td>0</td>\n",
       "      <td>6/22/2017</td>\n",
       "      <td>11/15/2018</td>\n",
       "      <td>73.00</td>\n",
       "      <td>...</td>\n",
       "      <td>0</td>\n",
       "      <td>9</td>\n",
       "      <td>3</td>\n",
       "      <td>12</td>\n",
       "      <td>0</td>\n",
       "      <td>1</td>\n",
       "      <td>0</td>\n",
       "      <td>2</td>\n",
       "      <td>0</td>\n",
       "      <td>28</td>\n",
       "    </tr>\n",
       "  </tbody>\n",
       "</table>\n",
       "<p>5 rows × 117 columns</p>\n",
       "</div>"
      ],
      "text/plain": [
       "      key  CAR NUMBER LOCATION  CONDITION CODE  is_new  RESPONSE CODE  \\\n",
       "0  83500A       83500        A               1       1              0   \n",
       "1  83500B       83500        B               1       1              0   \n",
       "2  83503A       83503        A               3       0              0   \n",
       "3  83503B       83503        B               3       0              0   \n",
       "4  83505A       83505        A               1       1              0   \n",
       "\n",
       "   WHY MADE PART APPLIED DATE UPDATED PART REPAIR DATE  weeks_in_service  ...  \\\n",
       "0         0         3/23/2018               11/15/2018             33.86  ...   \n",
       "1         0          6/6/2018               11/15/2018             23.14  ...   \n",
       "2         0        12/19/2014               11/15/2018            203.86  ...   \n",
       "3         0        10/20/2016               11/15/2018            108.00  ...   \n",
       "4         0         6/22/2017               11/15/2018             73.00  ...   \n",
       "\n",
       "   BOCT  CN   CPRS CSXT FXE  KCS  KCSM  NSS  ST    UP    \n",
       "0     0     3    0    3    0    0    0     4    0    15  \n",
       "1     0     3    0    3    0    0    0     4    0    15  \n",
       "2     0     6    0    6    0    0    0     5    0    23  \n",
       "3     0     6    0    6    0    0    0     5    0    23  \n",
       "4     0     9    3   12    0    1    0     2    0    28  \n",
       "\n",
       "[5 rows x 117 columns]"
      ]
     },
     "execution_count": 10,
     "metadata": {},
     "output_type": "execute_result"
    }
   ],
   "source": [
    "data.head()"
   ]
  },
  {
   "cell_type": "code",
   "execution_count": 11,
   "metadata": {},
   "outputs": [],
   "source": [
    "data['CAR_CLASS'] = pd.factorize(data.CAR_CLASS)[0]\n",
    "data['EQUIP_FEAT_DESC'] = pd.factorize(data.EQUIP_FEAT_DESC)[0]\n",
    "data['car_length'] = pd.factorize(data.car_length)[0]\n",
    "data['car_tonnage'] = pd.factorize(data.car_tonnage)[0]\n",
    "data['BUILDER_NAME'] = pd.factorize(data.BUILDER_NAME)[0]"
   ]
  },
  {
   "cell_type": "code",
   "execution_count": 12,
   "metadata": {},
   "outputs": [],
   "source": [
    "data1 = pd.DataFrame(data['CAR NUMBER'].unique())\n",
    "data1.columns=['CAR NUMBER']\n",
    "data2=pd.DataFrame(np.random.rand(len(data['CAR NUMBER'].unique())))\n",
    "data2.columns=['RandomNum']\n",
    "data1['RandomNum']=pd.DataFrame(np.random.rand(len(data['CAR NUMBER'].unique())))\n",
    "data_w_rand=pd.merge(data,data1,on='CAR NUMBER',how='left')\n",
    "\n",
    "data_new =data_w_rand.drop(['CAR NUMBER','key','LOCATION','RESPONSE CODE','WHY MADE','PART APPLIED DATE','UPDATED PART REPAIR DATE','UPDATED PART REPAIR DATE','BUILT DATE'],axis =1)\n",
    "\n",
    "#train and test  \n",
    "data_train = data_new[data_new['RandomNum'] <= 0.75]\n",
    "data_test = data_new[data_new['RandomNum'] > 0.75]"
   ]
  },
  {
   "cell_type": "code",
   "execution_count": 13,
   "metadata": {},
   "outputs": [],
   "source": [
    "df_no_fail_test = data_test[data_test['TARGET']== 0]\n",
    "df_fail_train = data_train[data_train['TARGET']== 1]\n",
    "df_fail_test =  data_test[data_test['TARGET']== 1]"
   ]
  },
  {
   "cell_type": "code",
   "execution_count": 14,
   "metadata": {},
   "outputs": [],
   "source": [
    "y_test = df_fail_test['TARGET']\n",
    "x_test = df_fail_test.drop(['TARGET'],axis =1)\n",
    "y_train = df_fail_train['TARGET']\n",
    "x_train = df_fail_train.drop(['TARGET'],axis =1)"
   ]
  },
  {
   "cell_type": "code",
   "execution_count": 15,
   "metadata": {},
   "outputs": [],
   "source": [
    "y_test_no_fail = df_no_fail_test['TARGET']\n",
    "x_test_no_fail = df_no_fail_test.drop(['TARGET'],axis =1)"
   ]
  },
  {
   "cell_type": "code",
   "execution_count": 16,
   "metadata": {},
   "outputs": [
    {
     "name": "stderr",
     "output_type": "stream",
     "text": [
      "C:\\Users\\arian\\Anaconda3\\lib\\site-packages\\sklearn\\ensemble\\iforest.py:237: FutureWarning: default contamination parameter 0.1 will change in version 0.22 to \"auto\". This will change the predict method behavior.\n",
      "  FutureWarning)\n",
      "C:\\Users\\arian\\Anaconda3\\lib\\site-packages\\sklearn\\ensemble\\iforest.py:247: FutureWarning: behaviour=\"old\" is deprecated and will be removed in version 0.22. Please use behaviour=\"new\", which makes the decision_function change to match other anomaly detection algorithm API.\n",
      "  FutureWarning)\n"
     ]
    }
   ],
   "source": [
    "from sklearn.ensemble import IsolationForest\n",
    "clf = IsolationForest(n_estimators = 500, bootstrap=True,n_jobs=3).fit(x_train)"
   ]
  },
  {
   "cell_type": "code",
   "execution_count": 17,
   "metadata": {},
   "outputs": [
    {
     "name": "stderr",
     "output_type": "stream",
     "text": [
      "C:\\Users\\arian\\Anaconda3\\lib\\site-packages\\sklearn\\ensemble\\iforest.py:415: DeprecationWarning: threshold_ attribute is deprecated in 0.20 and will be removed in 0.22.\n",
      "  \" be removed in 0.22.\", DeprecationWarning)\n",
      "C:\\Users\\arian\\Anaconda3\\lib\\site-packages\\sklearn\\ensemble\\iforest.py:415: DeprecationWarning: threshold_ attribute is deprecated in 0.20 and will be removed in 0.22.\n",
      "  \" be removed in 0.22.\", DeprecationWarning)\n",
      "C:\\Users\\arian\\Anaconda3\\lib\\site-packages\\sklearn\\ensemble\\iforest.py:415: DeprecationWarning: threshold_ attribute is deprecated in 0.20 and will be removed in 0.22.\n",
      "  \" be removed in 0.22.\", DeprecationWarning)\n"
     ]
    }
   ],
   "source": [
    "y_pre_train = clf.predict(x_train)\n",
    "y_pre_test = clf.predict(x_test)\n",
    "y_pre_nofail_test = clf.predict(x_test_no_fail)"
   ]
  },
  {
   "cell_type": "code",
   "execution_count": null,
   "metadata": {},
   "outputs": [],
   "source": [
    "## Accuracy for test: failure data"
   ]
  },
  {
   "cell_type": "code",
   "execution_count": 18,
   "metadata": {},
   "outputs": [
    {
     "data": {
      "text/plain": [
       "0.8817204301075269"
      ]
     },
     "execution_count": 18,
     "metadata": {},
     "output_type": "execute_result"
    }
   ],
   "source": [
    "1 + np.sum(y_pre_test[y_pre_test == -1])/len(y_pre_test)"
   ]
  },
  {
   "cell_type": "code",
   "execution_count": 19,
   "metadata": {},
   "outputs": [],
   "source": [
    "## Accuracy for train: : failure data"
   ]
  },
  {
   "cell_type": "code",
   "execution_count": 20,
   "metadata": {},
   "outputs": [
    {
     "data": {
      "text/plain": [
       "0.8994974874371859"
      ]
     },
     "execution_count": 20,
     "metadata": {},
     "output_type": "execute_result"
    }
   ],
   "source": [
    "1 + np.sum(y_pre_train[y_pre_train == -1])/len(y_pre_train)"
   ]
  },
  {
   "cell_type": "code",
   "execution_count": 22,
   "metadata": {},
   "outputs": [
    {
     "data": {
      "text/plain": [
       "0.11700526711813397"
      ]
     },
     "execution_count": 22,
     "metadata": {},
     "output_type": "execute_result"
    }
   ],
   "source": [
    "1 - np.sum(y_pre_nofail_test[y_pre_nofail_test == 1])/len(y_pre_nofail_test)"
   ]
  }
 ],
 "metadata": {
  "kernelspec": {
   "display_name": "Python 3",
   "language": "python",
   "name": "python3"
  },
  "language_info": {
   "codemirror_mode": {
    "name": "ipython",
    "version": 3
   },
   "file_extension": ".py",
   "mimetype": "text/x-python",
   "name": "python",
   "nbconvert_exporter": "python",
   "pygments_lexer": "ipython3",
   "version": "3.7.4"
  }
 },
 "nbformat": 4,
 "nbformat_minor": 2
}
